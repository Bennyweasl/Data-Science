{
 "cells": [
  {
   "cell_type": "markdown",
   "metadata": {},
   "source": [
    "## Boston Housing Assignment\n",
    "\n",
    "In this assignment you'll be using linear regression to estimate the cost of house in boston, using a well known dataset.\n",
    "\n",
    "Goals:\n",
    "+  Measure the performance of the model I created using $R^{2}$ and MSE\n",
    "> Learn how to use sklearn.metrics.r2_score and sklearn.metrics.mean_squared_error\n",
    "+  Implement a new model using L2 regularization\n",
    "> Use sklearn.linear_model.Ridge or sklearn.linear_model.Lasso \n",
    "+  Get the best model you can by optimizing the regularization parameter.   "
   ]
  },
  {
   "cell_type": "code",
   "execution_count": 50,
   "metadata": {
    "collapsed": false
   },
   "outputs": [],
   "source": [
    "from sklearn import datasets\n",
    "import pandas as pd\n",
    "from sklearn.preprocessing import StandardScaler\n",
    "from sklearn.cross_validation import train_test_split\n",
    "from sklearn.metrics import mean_squared_error\n",
    "from sklearn.metrics import r2_score\n",
    "from sklearn.linear_model import LinearRegression"
   ]
  },
  {
   "cell_type": "code",
   "execution_count": 51,
   "metadata": {
    "collapsed": false
   },
   "outputs": [
    {
     "name": "stdout",
     "output_type": "stream",
     "text": [
      "Boston House Prices dataset\n",
      "\n",
      "Notes\n",
      "------\n",
      "Data Set Characteristics:  \n",
      "\n",
      "    :Number of Instances: 506 \n",
      "\n",
      "    :Number of Attributes: 13 numeric/categorical predictive\n",
      "    \n",
      "    :Median Value (attribute 14) is usually the target\n",
      "\n",
      "    :Attribute Information (in order):\n",
      "        - CRIM     per capita crime rate by town\n",
      "        - ZN       proportion of residential land zoned for lots over 25,000 sq.ft.\n",
      "        - INDUS    proportion of non-retail business acres per town\n",
      "        - CHAS     Charles River dummy variable (= 1 if tract bounds river; 0 otherwise)\n",
      "        - NOX      nitric oxides concentration (parts per 10 million)\n",
      "        - RM       average number of rooms per dwelling\n",
      "        - AGE      proportion of owner-occupied units built prior to 1940\n",
      "        - DIS      weighted distances to five Boston employment centres\n",
      "        - RAD      index of accessibility to radial highways\n",
      "        - TAX      full-value property-tax rate per $10,000\n",
      "        - PTRATIO  pupil-teacher ratio by town\n",
      "        - B        1000(Bk - 0.63)^2 where Bk is the proportion of blacks by town\n",
      "        - LSTAT    % lower status of the population\n",
      "        - MEDV     Median value of owner-occupied homes in $1000's\n",
      "\n",
      "    :Missing Attribute Values: None\n",
      "\n",
      "    :Creator: Harrison, D. and Rubinfeld, D.L.\n",
      "\n",
      "This is a copy of UCI ML housing dataset.\n",
      "http://archive.ics.uci.edu/ml/datasets/Housing\n",
      "\n",
      "\n",
      "This dataset was taken from the StatLib library which is maintained at Carnegie Mellon University.\n",
      "\n",
      "The Boston house-price data of Harrison, D. and Rubinfeld, D.L. 'Hedonic\n",
      "prices and the demand for clean air', J. Environ. Economics & Management,\n",
      "vol.5, 81-102, 1978.   Used in Belsley, Kuh & Welsch, 'Regression diagnostics\n",
      "...', Wiley, 1980.   N.B. Various transformations are used in the table on\n",
      "pages 244-261 of the latter.\n",
      "\n",
      "The Boston house-price data has been used in many machine learning papers that address regression\n",
      "problems.   \n",
      "     \n",
      "**References**\n",
      "\n",
      "   - Belsley, Kuh & Welsch, 'Regression diagnostics: Identifying Influential Data and Sources of Collinearity', Wiley, 1980. 244-261.\n",
      "   - Quinlan,R. (1993). Combining Instance-Based and Model-Based Learning. In Proceedings on the Tenth International Conference of Machine Learning, 236-243, University of Massachusetts, Amherst. Morgan Kaufmann.\n",
      "   - many more! (see http://archive.ics.uci.edu/ml/datasets/Housing)\n",
      "\n"
     ]
    }
   ],
   "source": [
    "bean = datasets.load_boston()\n",
    "print bean.DESCR"
   ]
  },
  {
   "cell_type": "code",
   "execution_count": 53,
   "metadata": {
    "collapsed": false
   },
   "outputs": [],
   "source": [
    "def load_boston():\n",
    "    scaler = StandardScaler()\n",
    "    boston = datasets.load_boston()\n",
    "    X=boston.data\n",
    "    y=boston.target\n",
    "    X = scaler.fit_transform(X)\n",
    "    return train_test_split(X,y)\n",
    "    "
   ]
  },
  {
   "cell_type": "code",
   "execution_count": 54,
   "metadata": {
    "collapsed": false
   },
   "outputs": [],
   "source": [
    "X_train, X_test, y_train, y_test = load_boston()"
   ]
  },
  {
   "cell_type": "code",
   "execution_count": 55,
   "metadata": {
    "collapsed": false
   },
   "outputs": [
    {
     "data": {
      "text/plain": [
       "(379L, 13L)"
      ]
     },
     "execution_count": 55,
     "metadata": {},
     "output_type": "execute_result"
    }
   ],
   "source": [
    "X_train.shape"
   ]
  },
  {
   "cell_type": "markdown",
   "metadata": {},
   "source": [
    "### Fitting a Linear Regression\n",
    "\n",
    "It's as easy as instantiating a new regression object (line 1) and giving your regression object your training data\n",
    "(line 2) by calling .fit(independent variables, dependent variable)\n",
    "\n"
   ]
  },
  {
   "cell_type": "code",
   "execution_count": 76,
   "metadata": {
    "collapsed": false
   },
   "outputs": [
    {
     "data": {
      "text/plain": [
       "LinearRegression(copy_X=True, fit_intercept=True, n_jobs=1, normalize=False)"
      ]
     },
     "execution_count": 76,
     "metadata": {},
     "output_type": "execute_result"
    }
   ],
   "source": [
    "clf = LinearRegression()\n",
    "clf.fit(X_train, y_train)"
   ]
  },
  {
   "cell_type": "code",
   "execution_count": 57,
   "metadata": {
    "collapsed": false
   },
   "outputs": [],
   "source": [
    "y_pred = clf.predict(X_test)"
   ]
  },
  {
   "cell_type": "code",
   "execution_count": 58,
   "metadata": {
    "collapsed": false
   },
   "outputs": [
    {
     "data": {
      "text/plain": [
       "array([ 23.76904102,  22.30007173,  24.98471075,   6.10413563,\n",
       "         7.51683849,  13.21699029,  17.08201691,  14.21822206,\n",
       "        36.65563806,  23.2069817 ,   9.62790685,  17.42317883,\n",
       "        26.4205491 ,  22.61620273,  19.66120088,  39.66004607,\n",
       "        30.68715851,  30.90451782,   5.83450861,   0.35920888,\n",
       "        17.6198611 ,   8.1018283 ,  34.61953311,  17.78341499,\n",
       "        32.11062553,  27.65479849,  17.25462026,  12.10100765,\n",
       "         7.88054167,  13.09899071,  23.57169443,  24.43986347,\n",
       "        40.70278375,  13.92067924,  36.95455059,  17.15848519,\n",
       "        23.02931913,  21.0494038 ,  13.34146959,  11.79755449,\n",
       "        22.2365532 ,  31.48288655,  22.9749657 ,  16.46596225,\n",
       "        15.94984119,  18.21664909,  32.35654682,  43.1151829 ,\n",
       "        37.18750541,  21.91401051,  16.54135201,  17.81668756,\n",
       "        26.74495255,  18.88557795,  27.8415906 ,  36.95412824,\n",
       "        22.55895172,  18.80078003,  20.04123296,  28.36249424,\n",
       "        16.1621005 ,  15.83811206,  16.19360602,  20.26399719,\n",
       "        23.72531865,  13.84393726,  21.20852327,  24.54084861,\n",
       "        19.92493041,  10.84793408,  14.71730073,  14.82524182,\n",
       "        34.14906032,  13.68542899,  22.15022485,  17.37108069,\n",
       "        19.77637672,  23.04394152,   2.88172663,   9.39139335,\n",
       "        20.05440281,  14.86232358,  24.80335595,  28.54112621,\n",
       "        32.81322747,  14.91869896,  33.59057337,  16.21662763,\n",
       "        12.71717338,  16.77782248,  31.52082621,  20.91063161,\n",
       "        28.91513426,  32.68677418,  31.53205003,  10.8255519 ,\n",
       "        16.59624439,  12.79402884,  32.08544461,  24.66730876,\n",
       "        20.48808278,  29.74732124,  18.38575686,  27.59053336,\n",
       "        24.41329487,  43.11668013,  17.09494823,   3.91420381,\n",
       "         8.32932927,  18.8473424 ,  20.39671366,  32.8408687 ,\n",
       "        20.80350787,   9.25947612,  17.04287169,  14.36701735,\n",
       "        20.3067356 ,  21.1521486 ,  13.37673373,  32.27126224,\n",
       "        11.8355408 ,  25.53869286,  22.22370246,  15.95387142,\n",
       "        21.99915605,  13.74832759,  25.52647231])"
      ]
     },
     "execution_count": 58,
     "metadata": {},
     "output_type": "execute_result"
    }
   ],
   "source": [
    "y_pred"
   ]
  },
  {
   "cell_type": "code",
   "execution_count": 59,
   "metadata": {
    "collapsed": false
   },
   "outputs": [
    {
     "data": {
      "text/plain": [
       "(127L,)"
      ]
     },
     "execution_count": 59,
     "metadata": {},
     "output_type": "execute_result"
    }
   ],
   "source": [
    "y_pred.shape"
   ]
  },
  {
   "cell_type": "code",
   "execution_count": 60,
   "metadata": {
    "collapsed": false
   },
   "outputs": [
    {
     "data": {
      "text/plain": [
       "(127L,)"
      ]
     },
     "execution_count": 60,
     "metadata": {},
     "output_type": "execute_result"
    }
   ],
   "source": [
    "y_test.shape"
   ]
  },
  {
   "cell_type": "markdown",
   "metadata": {},
   "source": [
    "### Making a Prediction\n",
    "X_test is our holdout set of data.  We know the answer (y_test) but the computer does not.   \n",
    "\n",
    "Using the command below, I create a tuple for each observation, where I'm combining the real value (y_test) with\n",
    "the value our regressor predicts (clf.predict(X_test))\n",
    "\n",
    "Use a similiar format to get your r2 and mse metrics working.  Using the [scikit learn api](http://scikit-learn.org/stable/modules/model_evaluation.html) if you need help!"
   ]
  },
  {
   "cell_type": "code",
   "execution_count": 61,
   "metadata": {
    "collapsed": false
   },
   "outputs": [
    {
     "data": {
      "text/plain": [
       "[(23.0, 23.769041020573567),\n",
       " (33.0, 22.300071728835597),\n",
       " (24.600000000000001, 24.984710749515813),\n",
       " (10.5, 6.1041356303966658),\n",
       " (8.6999999999999993, 7.5168384896687819),\n",
       " (14.5, 13.216990286972676),\n",
       " (17.800000000000001, 17.082016905462122),\n",
       " (13.6, 14.218222063761191),\n",
       " (32.399999999999999, 36.655638057593848),\n",
       " (22.199999999999999, 23.206981699106102),\n",
       " (5.0, 9.6279068450207355),\n",
       " (14.5, 17.423178826137647),\n",
       " (24.800000000000001, 26.420549102626541),\n",
       " (20.0, 22.616202732965345),\n",
       " (24.100000000000001, 19.661200879680283),\n",
       " (50.0, 39.660046072572015),\n",
       " (37.0, 30.687158507417994),\n",
       " (28.699999999999999, 30.904517823713164),\n",
       " (13.800000000000001, 5.8345086110950142),\n",
       " (17.899999999999999, 0.3592088828293285),\n",
       " (19.600000000000001, 17.619861103344867),\n",
       " (13.199999999999999, 8.1018282958360412),\n",
       " (37.299999999999997, 34.619533111194485),\n",
       " (12.699999999999999, 17.783414992133196),\n",
       " (31.600000000000001, 32.110625525351153),\n",
       " (36.200000000000003, 27.654798490114317),\n",
       " (19.600000000000001, 17.254620257233043),\n",
       " (5.5999999999999996, 12.101007647957525),\n",
       " (14.4, 7.880541672048933),\n",
       " (17.199999999999999, 13.098990713731078),\n",
       " (18.899999999999999, 23.571694431049004),\n",
       " (25.0, 24.439863469649275),\n",
       " (50.0, 40.702783750150118),\n",
       " (13.300000000000001, 13.920679241705846),\n",
       " (48.299999999999997, 36.954550588825676),\n",
       " (14.1, 17.158485190767699),\n",
       " (22.399999999999999, 23.029319134409164),\n",
       " (18.699999999999999, 21.049403802264933),\n",
       " (11.699999999999999, 13.341469593790617),\n",
       " (9.5, 11.797554492625542),\n",
       " (23.800000000000001, 22.236553204328068),\n",
       " (29.100000000000001, 31.482886545314052),\n",
       " (22.199999999999999, 22.974965701933066),\n",
       " (19.399999999999999, 16.465962249724399),\n",
       " (8.5, 15.949841191693531),\n",
       " (27.100000000000001, 18.216649091083198),\n",
       " (28.199999999999999, 32.356546819832943),\n",
       " (50.0, 43.115182898714423),\n",
       " (37.600000000000001, 37.187505410063906),\n",
       " (26.600000000000001, 21.914010508184742),\n",
       " (14.9, 16.54135200912382),\n",
       " (13.9, 17.816687557734731),\n",
       " (23.300000000000001, 26.744952546950568),\n",
       " (15.199999999999999, 18.885577953394925),\n",
       " (22.800000000000001, 27.841590599816733),\n",
       " (50.0, 36.95412823664897),\n",
       " (19.800000000000001, 22.558951717911491),\n",
       " (18.600000000000001, 18.800780032181994),\n",
       " (16.199999999999999, 20.041232957969857),\n",
       " (24.300000000000001, 28.362494240607056),\n",
       " (13.1, 16.162100495834334),\n",
       " (17.300000000000001, 15.83811205624729),\n",
       " (19.100000000000001, 16.193606022701807),\n",
       " (19.300000000000001, 20.263997191321565),\n",
       " (30.100000000000001, 23.725318649705613),\n",
       " (14.9, 13.84393726158291),\n",
       " (20.699999999999999, 21.208523265231765),\n",
       " (21.399999999999999, 24.540848610723085),\n",
       " (15.300000000000001, 19.92493041410486),\n",
       " (10.800000000000001, 10.847934083633142),\n",
       " (21.899999999999999, 14.717300728858081),\n",
       " (16.600000000000001, 14.825241816337652),\n",
       " (34.600000000000001, 34.149060321498098),\n",
       " (18.199999999999999, 13.685428990459059),\n",
       " (22.899999999999999, 22.150224849655299),\n",
       " (18.100000000000001, 17.371080688079648),\n",
       " (17.100000000000001, 19.77637671782259),\n",
       " (22.600000000000001, 23.043941524680498),\n",
       " (8.8000000000000007, 2.8817266294209638),\n",
       " (23.100000000000001, 9.3913933509575749),\n",
       " (13.1, 20.054402814397886),\n",
       " (15.0, 14.862323577634086),\n",
       " (22.899999999999999, 24.803355946674849),\n",
       " (22.5, 28.541126211226185),\n",
       " (31.699999999999999, 32.813227467985904),\n",
       " (17.600000000000001, 14.918698959443088),\n",
       " (28.5, 33.590573366642978),\n",
       " (18.600000000000001, 16.216627632194637),\n",
       " (19.0, 12.717173378171621),\n",
       " (18.699999999999999, 16.77782248105531),\n",
       " (30.800000000000001, 31.520826207999807),\n",
       " (23.100000000000001, 20.910631605299155),\n",
       " (24.100000000000001, 28.915134261962137),\n",
       " (50.0, 32.686774182382919),\n",
       " (31.5, 31.532050025173859),\n",
       " (12.699999999999999, 10.825551901116336),\n",
       " (13.0, 16.596244386764798),\n",
       " (12.800000000000001, 12.794028840139314),\n",
       " (27.5, 32.085444610522202),\n",
       " (23.899999999999999, 24.667308759364957),\n",
       " (24.5, 20.488082775774792),\n",
       " (24.0, 29.747321236977015),\n",
       " (19.899999999999999, 18.385756859386913),\n",
       " (36.200000000000003, 27.590533362036112),\n",
       " (29.600000000000001, 24.413294868806602),\n",
       " (50.0, 43.116680130552631),\n",
       " (14.9, 17.094948225298165),\n",
       " (8.4000000000000004, 3.9142038083012096),\n",
       " (11.800000000000001, 8.3293292690785918),\n",
       " (18.5, 18.84734239788007),\n",
       " (18.699999999999999, 20.396713659814143),\n",
       " (36.399999999999999, 32.840868695388259),\n",
       " (19.300000000000001, 20.80350787336193),\n",
       " (17.800000000000001, 9.2594761237013419),\n",
       " (16.600000000000001, 17.042871689891154),\n",
       " (15.4, 14.367017348316935),\n",
       " (20.0, 20.306735604782123),\n",
       " (24.5, 21.152148604330286),\n",
       " (27.5, 13.376733731553651),\n",
       " (31.100000000000001, 32.271262240368749),\n",
       " (15.6, 11.835540800858256),\n",
       " (29.800000000000001, 25.538692860577779),\n",
       " (22.699999999999999, 22.223702458163626),\n",
       " (17.399999999999999, 15.953871415473618),\n",
       " (26.399999999999999, 21.999156046669476),\n",
       " (10.9, 13.74832758933378),\n",
       " (23.199999999999999, 25.526472313653091)]"
      ]
     },
     "execution_count": 61,
     "metadata": {},
     "output_type": "execute_result"
    }
   ],
   "source": [
    "zip (y_test, clf.predict(X_test))"
   ]
  },
  {
   "cell_type": "code",
   "execution_count": 62,
   "metadata": {
    "collapsed": false
   },
   "outputs": [
    {
     "data": {
      "text/plain": [
       "0.72440600953767298"
      ]
     },
     "execution_count": 62,
     "metadata": {},
     "output_type": "execute_result"
    }
   ],
   "source": [
    "r2_score(y_test, y_pred)"
   ]
  },
  {
   "cell_type": "code",
   "execution_count": 69,
   "metadata": {
    "collapsed": false
   },
   "outputs": [],
   "source": [
    "MSE = mean_squared_error (y_test, y_pred)"
   ]
  },
  {
   "cell_type": "code",
   "execution_count": 70,
   "metadata": {
    "collapsed": false
   },
   "outputs": [
    {
     "data": {
      "text/plain": [
       "26.045785384986516"
      ]
     },
     "execution_count": 70,
     "metadata": {},
     "output_type": "execute_result"
    }
   ],
   "source": [
    "MSE"
   ]
  },
  {
   "cell_type": "code",
   "execution_count": 129,
   "metadata": {
    "collapsed": false
   },
   "outputs": [
    {
     "data": {
      "text/plain": [
       "5.10116323252565"
      ]
     },
     "execution_count": 129,
     "metadata": {},
     "output_type": "execute_result"
    }
   ],
   "source": [
    "import math\n",
    "math.sqrt(MSE)"
   ]
  },
  {
   "cell_type": "markdown",
   "metadata": {},
   "source": [
    "### Linear Regression Model Results\n",
    "<li> R^2 = 0.72440600953767298\n",
    "<li> RMSE = 5.10116323252565\n",
    "\n",
    "### Next Model Ridge"
   ]
  },
  {
   "cell_type": "code",
   "execution_count": 130,
   "metadata": {
    "collapsed": true
   },
   "outputs": [],
   "source": [
    "from sklearn import linear_model"
   ]
  },
  {
   "cell_type": "code",
   "execution_count": 77,
   "metadata": {
    "collapsed": true
   },
   "outputs": [],
   "source": [
    "clf = linear_model.Ridge(alpha = .5)"
   ]
  },
  {
   "cell_type": "code",
   "execution_count": 78,
   "metadata": {
    "collapsed": false
   },
   "outputs": [
    {
     "data": {
      "text/plain": [
       "Ridge(alpha=0.5, copy_X=True, fit_intercept=True, max_iter=None,\n",
       "   normalize=False, random_state=None, solver='auto', tol=0.001)"
      ]
     },
     "execution_count": 78,
     "metadata": {},
     "output_type": "execute_result"
    }
   ],
   "source": [
    "clf.fit(X_train, y_train)"
   ]
  },
  {
   "cell_type": "code",
   "execution_count": 82,
   "metadata": {
    "collapsed": true
   },
   "outputs": [],
   "source": [
    "y_pred_ridge = clf.predict(X_test)"
   ]
  },
  {
   "cell_type": "code",
   "execution_count": 83,
   "metadata": {
    "collapsed": false
   },
   "outputs": [
    {
     "data": {
      "text/plain": [
       "0.72445230292939933"
      ]
     },
     "execution_count": 83,
     "metadata": {},
     "output_type": "execute_result"
    }
   ],
   "source": [
    "r2_score(y_test, y_pred_ridge)"
   ]
  },
  {
   "cell_type": "code",
   "execution_count": 84,
   "metadata": {
    "collapsed": true
   },
   "outputs": [],
   "source": [
    "MSE = mean_squared_error (y_test, y_pred_ridge)"
   ]
  },
  {
   "cell_type": "code",
   "execution_count": 85,
   "metadata": {
    "collapsed": false
   },
   "outputs": [
    {
     "data": {
      "text/plain": [
       "5.103078511816791"
      ]
     },
     "execution_count": 85,
     "metadata": {},
     "output_type": "execute_result"
    }
   ],
   "source": [
    "math.sqrt(MSE)"
   ]
  },
  {
   "cell_type": "markdown",
   "metadata": {},
   "source": [
    "<li> default value used .5\n",
    "<li> attempting gradient descent in two directions with first step .5"
   ]
  },
  {
   "cell_type": "code",
   "execution_count": 131,
   "metadata": {
    "collapsed": false
   },
   "outputs": [
    {
     "data": {
      "text/plain": [
       "0.72449308379032717"
      ]
     },
     "execution_count": 131,
     "metadata": {},
     "output_type": "execute_result"
    }
   ],
   "source": [
    "clf = linear_model.Ridge(alpha = 1)\n",
    "clf.fit(X_train, y_train)\n",
    "y_pred_ridge = clf.predict(X_test)\n",
    "r2_score(y_test, y_pred_ridge)"
   ]
  },
  {
   "cell_type": "code",
   "execution_count": 132,
   "metadata": {
    "collapsed": false
   },
   "outputs": [
    {
     "data": {
      "text/plain": [
       "5.102700871869456"
      ]
     },
     "execution_count": 132,
     "metadata": {},
     "output_type": "execute_result"
    }
   ],
   "source": [
    "MSE = mean_squared_error (y_test, y_pred_ridge)\n",
    "math.sqrt(MSE)"
   ]
  },
  {
   "cell_type": "code",
   "execution_count": 133,
   "metadata": {
    "collapsed": false
   },
   "outputs": [
    {
     "data": {
      "text/plain": [
       "0.7244060095376732"
      ]
     },
     "execution_count": 133,
     "metadata": {},
     "output_type": "execute_result"
    }
   ],
   "source": [
    "clf = linear_model.Ridge(alpha = 0)\n",
    "clf.fit(X_train, y_train)\n",
    "y_pred_ridge = clf.predict(X_test)\n",
    "r2_score(y_test, y_pred_ridge)"
   ]
  },
  {
   "cell_type": "code",
   "execution_count": 134,
   "metadata": {
    "collapsed": false
   },
   "outputs": [
    {
     "data": {
      "text/plain": [
       "5.103507165174405"
      ]
     },
     "execution_count": 134,
     "metadata": {},
     "output_type": "execute_result"
    }
   ],
   "source": [
    "MSE = mean_squared_error (y_test, y_pred_ridge)\n",
    "math.sqrt(MSE)"
   ]
  },
  {
   "cell_type": "markdown",
   "metadata": {},
   "source": [
    "<li> changing step to intervals of 5 in positive direction"
   ]
  },
  {
   "cell_type": "code",
   "execution_count": 107,
   "metadata": {
    "collapsed": false
   },
   "outputs": [
    {
     "data": {
      "text/plain": [
       "0.72465554173414026"
      ]
     },
     "execution_count": 107,
     "metadata": {},
     "output_type": "execute_result"
    }
   ],
   "source": [
    "clf = linear_model.Ridge(alpha = 5)\n",
    "clf.fit(X_train, y_train)\n",
    "y_pred_ridge = clf.predict(X_test)\n",
    "r2_score(y_test, y_pred_ridge)"
   ]
  },
  {
   "cell_type": "code",
   "execution_count": 101,
   "metadata": {
    "collapsed": false
   },
   "outputs": [
    {
     "data": {
      "text/plain": [
       "5.101196197242518"
      ]
     },
     "execution_count": 101,
     "metadata": {},
     "output_type": "execute_result"
    }
   ],
   "source": [
    "MSE = mean_squared_error (y_test, y_pred_ridge)\n",
    "math.sqrt(MSE)"
   ]
  },
  {
   "cell_type": "code",
   "execution_count": 105,
   "metadata": {
    "collapsed": false
   },
   "outputs": [
    {
     "data": {
      "text/plain": [
       "0.72456042673156129"
      ]
     },
     "execution_count": 105,
     "metadata": {},
     "output_type": "execute_result"
    }
   ],
   "source": [
    "clf = linear_model.Ridge(alpha = 10)\n",
    "clf.fit(X_train, y_train)\n",
    "y_pred_ridge = clf.predict(X_test)\n",
    "r2_score(y_test, y_pred_ridge)"
   ]
  },
  {
   "cell_type": "code",
   "execution_count": 135,
   "metadata": {
    "collapsed": false
   },
   "outputs": [
    {
     "data": {
      "text/plain": [
       "5.103507165174405"
      ]
     },
     "execution_count": 135,
     "metadata": {},
     "output_type": "execute_result"
    }
   ],
   "source": [
    "MSE = mean_squared_error (y_test, y_pred_ridge)\n",
    "math.sqrt(MSE)"
   ]
  },
  {
   "cell_type": "markdown",
   "metadata": {},
   "source": [
    "<li> optimal R^2 between 5-10"
   ]
  },
  {
   "cell_type": "code",
   "execution_count": 112,
   "metadata": {
    "collapsed": false
   },
   "outputs": [
    {
     "data": {
      "text/plain": [
       "0.72465003016326968"
      ]
     },
     "execution_count": 112,
     "metadata": {},
     "output_type": "execute_result"
    }
   ],
   "source": [
    "clf = linear_model.Ridge(alpha = 7)\n",
    "clf.fit(X_train, y_train)\n",
    "y_pred_ridge = clf.predict(X_test)\n",
    "r2_score(y_test, y_pred_ridge)"
   ]
  },
  {
   "cell_type": "code",
   "execution_count": 113,
   "metadata": {
    "collapsed": false
   },
   "outputs": [
    {
     "data": {
      "text/plain": [
       "5.101247252317036"
      ]
     },
     "execution_count": 113,
     "metadata": {},
     "output_type": "execute_result"
    }
   ],
   "source": [
    "MSE = mean_squared_error (y_test, y_pred_ridge)\n",
    "math.sqrt(MSE)"
   ]
  },
  {
   "cell_type": "code",
   "execution_count": 117,
   "metadata": {
    "collapsed": false
   },
   "outputs": [
    {
     "data": {
      "text/plain": [
       "0.72465886692503889"
      ]
     },
     "execution_count": 117,
     "metadata": {},
     "output_type": "execute_result"
    }
   ],
   "source": [
    "clf = linear_model.Ridge(alpha = 6)\n",
    "clf.fit(X_train, y_train)\n",
    "y_pred_ridge = clf.predict(X_test)\n",
    "r2_score(y_test, y_pred_ridge)"
   ]
  },
  {
   "cell_type": "code",
   "execution_count": 118,
   "metadata": {
    "collapsed": false
   },
   "outputs": [
    {
     "data": {
      "text/plain": [
       "5.101165394911346"
      ]
     },
     "execution_count": 118,
     "metadata": {},
     "output_type": "execute_result"
    }
   ],
   "source": [
    "MSE = mean_squared_error (y_test, y_pred_ridge)\n",
    "math.sqrt(MSE)"
   ]
  },
  {
   "cell_type": "markdown",
   "metadata": {},
   "source": [
    "<li> Optimal between alpha ~ 5-6"
   ]
  },
  {
   "cell_type": "code",
   "execution_count": 136,
   "metadata": {
    "collapsed": false
   },
   "outputs": [
    {
     "data": {
      "text/plain": [
       "0.72465879630539187"
      ]
     },
     "execution_count": 136,
     "metadata": {},
     "output_type": "execute_result"
    }
   ],
   "source": [
    "clf = linear_model.Ridge(alpha = 5.5)\n",
    "clf.fit(X_train, y_train)\n",
    "y_pred_ridge = clf.predict(X_test)\n",
    "r2_score(y_test, y_pred_ridge)"
   ]
  },
  {
   "cell_type": "code",
   "execution_count": 121,
   "metadata": {
    "collapsed": false
   },
   "outputs": [
    {
     "data": {
      "text/plain": [
       "5.101166049086173"
      ]
     },
     "execution_count": 121,
     "metadata": {},
     "output_type": "execute_result"
    }
   ],
   "source": [
    "MSE = mean_squared_error (y_test, y_pred_ridge)\n",
    "math.sqrt(MSE)"
   ]
  },
  {
   "cell_type": "code",
   "execution_count": 123,
   "metadata": {
    "collapsed": false
   },
   "outputs": [
    {
     "data": {
      "text/plain": [
       "0.72465919821606295"
      ]
     },
     "execution_count": 123,
     "metadata": {},
     "output_type": "execute_result"
    }
   ],
   "source": [
    "clf = linear_model.Ridge(alpha = 5.7)\n",
    "clf.fit(X_train, y_train)\n",
    "y_pred_ridge = clf.predict(X_test)\n",
    "r2_score(y_test, y_pred_ridge)"
   ]
  },
  {
   "cell_type": "code",
   "execution_count": 124,
   "metadata": {
    "collapsed": false
   },
   "outputs": [
    {
     "data": {
      "text/plain": [
       "5.101162326044016"
      ]
     },
     "execution_count": 124,
     "metadata": {},
     "output_type": "execute_result"
    }
   ],
   "source": [
    "MSE = mean_squared_error (y_test, y_pred_ridge)\n",
    "math.sqrt(MSE)"
   ]
  },
  {
   "cell_type": "code",
   "execution_count": 125,
   "metadata": {
    "collapsed": false
   },
   "outputs": [
    {
     "data": {
      "text/plain": [
       "0.7246592111731025"
      ]
     },
     "execution_count": 125,
     "metadata": {},
     "output_type": "execute_result"
    }
   ],
   "source": [
    "clf = linear_model.Ridge(alpha = 5.8)\n",
    "clf.fit(X_train, y_train)\n",
    "y_pred_ridge = clf.predict(X_test)\n",
    "r2_score(y_test, y_pred_ridge)"
   ]
  },
  {
   "cell_type": "code",
   "execution_count": 126,
   "metadata": {
    "collapsed": false
   },
   "outputs": [
    {
     "data": {
      "text/plain": [
       "5.101162206018284"
      ]
     },
     "execution_count": 126,
     "metadata": {},
     "output_type": "execute_result"
    }
   ],
   "source": [
    "MSE = mean_squared_error (y_test, y_pred_ridge)\n",
    "math.sqrt(MSE)"
   ]
  },
  {
   "cell_type": "code",
   "execution_count": 127,
   "metadata": {
    "collapsed": false
   },
   "outputs": [
    {
     "data": {
      "text/plain": [
       "0.72465910035938408"
      ]
     },
     "execution_count": 127,
     "metadata": {},
     "output_type": "execute_result"
    }
   ],
   "source": [
    "clf = linear_model.Ridge(alpha = 5.9)\n",
    "clf.fit(X_train, y_train)\n",
    "y_pred_ridge = clf.predict(X_test)\n",
    "r2_score(y_test, y_pred_ridge)"
   ]
  },
  {
   "cell_type": "code",
   "execution_count": 128,
   "metadata": {
    "collapsed": false
   },
   "outputs": [
    {
     "data": {
      "text/plain": [
       "5.10116323252565"
      ]
     },
     "execution_count": 128,
     "metadata": {},
     "output_type": "execute_result"
    }
   ],
   "source": [
    "MSE = mean_squared_error (y_test, y_pred_ridge)\n",
    "math.sqrt(MSE)"
   ]
  },
  {
   "cell_type": "markdown",
   "metadata": {},
   "source": [
    "### Ridge Results\n",
    "alpha = 5.8\n",
    "<li> R^2 = 0.7246592111731025\n",
    "<li> RMSE = 5.101162206018284"
   ]
  },
  {
   "cell_type": "code",
   "execution_count": 139,
   "metadata": {
    "collapsed": false
   },
   "outputs": [
    {
     "data": {
      "text/plain": [
       "0.72036229387815276"
      ]
     },
     "execution_count": 139,
     "metadata": {},
     "output_type": "execute_result"
    }
   ],
   "source": [
    "clf = linear_model.Lasso(alpha = 0.1)\n",
    "clf.fit(X_train, y_train)\n",
    "y_pred_ridge = clf.predict(X_test)\n",
    "r2_score(y_test, y_pred_ridge)"
   ]
  },
  {
   "cell_type": "code",
   "execution_count": 140,
   "metadata": {
    "collapsed": false
   },
   "outputs": [
    {
     "data": {
      "text/plain": [
       "5.140812008758471"
      ]
     },
     "execution_count": 140,
     "metadata": {},
     "output_type": "execute_result"
    }
   ],
   "source": [
    "MSE = mean_squared_error (y_test, y_pred_ridge)\n",
    "math.sqrt(MSE)"
   ]
  },
  {
   "cell_type": "code",
   "execution_count": 147,
   "metadata": {
    "collapsed": false
   },
   "outputs": [
    {
     "data": {
      "text/plain": [
       "0.71370236912778529"
      ]
     },
     "execution_count": 147,
     "metadata": {},
     "output_type": "execute_result"
    }
   ],
   "source": [
    "clf = linear_model.Lasso(alpha = .15)\n",
    "clf.fit(X_train, y_train)\n",
    "y_pred_ridge = clf.predict(X_test)\n",
    "r2_score(y_test, y_pred_ridge)"
   ]
  },
  {
   "cell_type": "code",
   "execution_count": 148,
   "metadata": {
    "collapsed": false
   },
   "outputs": [
    {
     "data": {
      "text/plain": [
       "5.201669254575839"
      ]
     },
     "execution_count": 148,
     "metadata": {},
     "output_type": "execute_result"
    }
   ],
   "source": [
    "MSE = mean_squared_error (y_test, y_pred_ridge)\n",
    "math.sqrt(MSE)"
   ]
  },
  {
   "cell_type": "code",
   "execution_count": 164,
   "metadata": {
    "collapsed": false
   },
   "outputs": [
    {
     "data": {
      "text/plain": [
       "0.72454428044986097"
      ]
     },
     "execution_count": 164,
     "metadata": {},
     "output_type": "execute_result"
    }
   ],
   "source": [
    "clf = linear_model.Lasso(alpha = 0.01)\n",
    "clf.fit(X_train, y_train)\n",
    "y_pred_ridge = clf.predict(X_test)\n",
    "r2_score(y_test, y_pred_ridge)"
   ]
  },
  {
   "cell_type": "code",
   "execution_count": 150,
   "metadata": {
    "collapsed": false
   },
   "outputs": [
    {
     "data": {
      "text/plain": [
       "5.107378903050145"
      ]
     },
     "execution_count": 150,
     "metadata": {},
     "output_type": "execute_result"
    }
   ],
   "source": [
    "MSE = mean_squared_error (y_test, y_pred_ridge)\n",
    "math.sqrt(MSE)"
   ]
  },
  {
   "cell_type": "code",
   "execution_count": 170,
   "metadata": {
    "collapsed": false
   },
   "outputs": [
    {
     "data": {
      "text/plain": [
       "0.72454600933042124"
      ]
     },
     "execution_count": 170,
     "metadata": {},
     "output_type": "execute_result"
    }
   ],
   "source": [
    "clf = linear_model.Lasso(alpha = 0.0099)\n",
    "clf.fit(X_train, y_train)\n",
    "y_pred_ridge = clf.predict(X_test)\n",
    "r2_score(y_test, y_pred_ridge)"
   ]
  },
  {
   "cell_type": "code",
   "execution_count": 168,
   "metadata": {
    "collapsed": false
   },
   "outputs": [
    {
     "data": {
      "text/plain": [
       "0.72455132384192322"
      ]
     },
     "execution_count": 168,
     "metadata": {},
     "output_type": "execute_result"
    }
   ],
   "source": [
    "clf = linear_model.Lasso(alpha = 0.011)\n",
    "clf.fit(X_train, y_train)\n",
    "y_pred_ridge = clf.predict(X_test)\n",
    "r2_score(y_test, y_pred_ridge)"
   ]
  },
  {
   "cell_type": "code",
   "execution_count": 171,
   "metadata": {
    "collapsed": false
   },
   "outputs": [
    {
     "data": {
      "text/plain": [
       "0.72458605740203064"
      ]
     },
     "execution_count": 171,
     "metadata": {},
     "output_type": "execute_result"
    }
   ],
   "source": [
    "clf = linear_model.Lasso(alpha = 0.02)\n",
    "clf.fit(X_train, y_train)\n",
    "y_pred_ridge = clf.predict(X_test)\n",
    "r2_score(y_test, y_pred_ridge)"
   ]
  },
  {
   "cell_type": "code",
   "execution_count": 172,
   "metadata": {
    "collapsed": false
   },
   "outputs": [
    {
     "data": {
      "text/plain": [
       "0.72136333342372361"
      ]
     },
     "execution_count": 172,
     "metadata": {},
     "output_type": "execute_result"
    }
   ],
   "source": [
    "clf = linear_model.Lasso(alpha = 0.09)\n",
    "clf.fit(X_train, y_train)\n",
    "y_pred_ridge = clf.predict(X_test)\n",
    "r2_score(y_test, y_pred_ridge)"
   ]
  },
  {
   "cell_type": "code",
   "execution_count": 173,
   "metadata": {
    "collapsed": false
   },
   "outputs": [
    {
     "data": {
      "text/plain": [
       "0.7239876962472338"
      ]
     },
     "execution_count": 173,
     "metadata": {},
     "output_type": "execute_result"
    }
   ],
   "source": [
    "clf = linear_model.Lasso(alpha = 0.05)\n",
    "clf.fit(X_train, y_train)\n",
    "y_pred_ridge = clf.predict(X_test)\n",
    "r2_score(y_test, y_pred_ridge)"
   ]
  },
  {
   "cell_type": "code",
   "execution_count": 174,
   "metadata": {
    "collapsed": false
   },
   "outputs": [
    {
     "data": {
      "text/plain": [
       "0.72451565700923037"
      ]
     },
     "execution_count": 174,
     "metadata": {},
     "output_type": "execute_result"
    }
   ],
   "source": [
    "clf = linear_model.Lasso(alpha = 0.03)\n",
    "clf.fit(X_train, y_train)\n",
    "y_pred_ridge = clf.predict(X_test)\n",
    "r2_score(y_test, y_pred_ridge)"
   ]
  },
  {
   "cell_type": "code",
   "execution_count": 175,
   "metadata": {
    "collapsed": false
   },
   "outputs": [
    {
     "data": {
      "text/plain": [
       "0.72456724828128061"
      ]
     },
     "execution_count": 175,
     "metadata": {},
     "output_type": "execute_result"
    }
   ],
   "source": [
    "clf = linear_model.Lasso(alpha = 0.025)\n",
    "clf.fit(X_train, y_train)\n",
    "y_pred_ridge = clf.predict(X_test)\n",
    "r2_score(y_test, y_pred_ridge)"
   ]
  },
  {
   "cell_type": "code",
   "execution_count": 176,
   "metadata": {
    "collapsed": false
   },
   "outputs": [
    {
     "data": {
      "text/plain": [
       "0.72458594488453554"
      ]
     },
     "execution_count": 176,
     "metadata": {},
     "output_type": "execute_result"
    }
   ],
   "source": [
    "clf = linear_model.Lasso(alpha = 0.019)\n",
    "clf.fit(X_train, y_train)\n",
    "y_pred_ridge = clf.predict(X_test)\n",
    "r2_score(y_test, y_pred_ridge)"
   ]
  },
  {
   "cell_type": "code",
   "execution_count": 177,
   "metadata": {
    "collapsed": false
   },
   "outputs": [
    {
     "data": {
      "text/plain": [
       "0.72458486895735885"
      ]
     },
     "execution_count": 177,
     "metadata": {},
     "output_type": "execute_result"
    }
   ],
   "source": [
    "clf = linear_model.Lasso(alpha = 0.021)\n",
    "clf.fit(X_train, y_train)\n",
    "y_pred_ridge = clf.predict(X_test)\n",
    "r2_score(y_test, y_pred_ridge)"
   ]
  },
  {
   "cell_type": "code",
   "execution_count": 178,
   "metadata": {
    "collapsed": false
   },
   "outputs": [
    {
     "data": {
      "text/plain": [
       "0.72458605740203064"
      ]
     },
     "execution_count": 178,
     "metadata": {},
     "output_type": "execute_result"
    }
   ],
   "source": [
    "clf = linear_model.Lasso(alpha = 0.02)\n",
    "clf.fit(X_train, y_train)\n",
    "y_pred_ridge = clf.predict(X_test)\n",
    "r2_score(y_test, y_pred_ridge)"
   ]
  },
  {
   "cell_type": "code",
   "execution_count": 179,
   "metadata": {
    "collapsed": false
   },
   "outputs": [
    {
     "data": {
      "text/plain": [
       "5.1018398107981335"
      ]
     },
     "execution_count": 179,
     "metadata": {},
     "output_type": "execute_result"
    }
   ],
   "source": [
    "MSE = mean_squared_error (y_test, y_pred_ridge)\n",
    "math.sqrt(MSE)"
   ]
  },
  {
   "cell_type": "markdown",
   "metadata": {},
   "source": [
    "### Lasso Results\n",
    "\n",
    "\n",
    "<li> alpha = 0.2\n",
    "<li> R^2 = 0.72458605740203064\n",
    "<li> RMSE = 5.1018398107981335"
   ]
  },
  {
   "cell_type": "markdown",
   "metadata": {},
   "source": [
    "### Linear Regression Model Results\n",
    "<li> R^2 = 0.72440600953767298\n",
    "<li> RMSE = 5.10116323252565"
   ]
  },
  {
   "cell_type": "markdown",
   "metadata": {},
   "source": [
    "### Ridge Results\n",
    "alpha = 5.8\n",
    "<li> R^2 = 0.7246592111731025\n",
    "<li> RMSE = 5.101162206018284"
   ]
  },
  {
   "cell_type": "markdown",
   "metadata": {},
   "source": [
    "### Final Results\n",
    "<li> Ridge had the best R^2 and RMSE values of the 3 linear models evaluated"
   ]
  },
  {
   "cell_type": "code",
   "execution_count": null,
   "metadata": {
    "collapsed": true
   },
   "outputs": [],
   "source": []
  }
 ],
 "metadata": {
  "kernelspec": {
   "display_name": "Python 2",
   "language": "python",
   "name": "python2"
  },
  "language_info": {
   "codemirror_mode": {
    "name": "ipython",
    "version": 2
   },
   "file_extension": ".py",
   "mimetype": "text/x-python",
   "name": "python",
   "nbconvert_exporter": "python",
   "pygments_lexer": "ipython2",
   "version": "2.7.11"
  }
 },
 "nbformat": 4,
 "nbformat_minor": 0
}
